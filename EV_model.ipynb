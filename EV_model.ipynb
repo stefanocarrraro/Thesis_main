{
 "cells": [
  {
   "cell_type": "markdown",
   "metadata": {},
   "source": [
    "# Initial model for EVs - version 1\n",
    "\n",
    "11/01/2024\n",
    "\n",
    "Key assumptions:\n",
    "- Time of arrival and departure, Ta and Td respectively, of each EV is known (this can be randomly generated for further impolementation)\n",
    "- Every EV has possibility to connect to a charger\n",
    "\n",
    "Objectives:\n",
    "\n",
    "$ min ( P^{max}_t) $  for all t, where   $ P^{max}_t = max( sum( P_{s,t})) $ over time t\n",
    "\n",
    "$ max( P_{s,t} \\cdot u_{s,t}) $ for all s, for all t\n",
    "\n",
    "S. t. :\n",
    "\n",
    "$ 0 <= sum(P_{s,t}) <= P^{max}_t $ for all t \n",
    "\n",
    "$ 0 <= P_{s,t} <= P^{max}_{s,t} \\cdot u_{s,t} $ for all s, for all t\n",
    "\n",
    "$ SOC^{+}_{s,t} >= SOC^{min} $ for all s, for all t\n"
   ]
  },
  {
   "cell_type": "code",
   "execution_count": 149,
   "metadata": {},
   "outputs": [],
   "source": [
    "import pyomo.environ as pyo\n",
    "import numpy as np\n",
    "import pandas as pd\n",
    "\n",
    "# Generate the model: \n",
    "model = pyo.ConcreteModel()\n",
    "\n",
    "# import data from Excel file\n",
    "def readInputFile(filename):\n",
    "    EV_data = pd.read_excel(filename, sheet_name= 'EVs', index_col=0)\n",
    "    return {'EV_data':EV_data}\n",
    "\n",
    "filename = 'EV_model.xlsx'\n",
    "data = readInputFile(filename)\n",
    "# ----------------------------\n",
    "EV_data = data['EV_data']\n",
    "\n",
    "\n",
    "\n",
    "# Define sets\n",
    "model.T = pyo.RangeSet(1,24)                                        # time periods\n",
    "model.S = pyo.Set(initialize=EV_data.index, ordered=True)           # EVs\n",
    "\n",
    "# Define parameters\n",
    "model.Pmax = pyo.Param(model.S, initialize=EV_data['Pmax_kw'].to_dict())        # Maximum charging power\n",
    "model.Ta = pyo.Param(model.S, initialize= EV_data['Ta'].to_dict())              # Arrival time\n",
    "model.Td = pyo.Param(model.S, initialize= EV_data['Td'].to_dict())              # Departure time\n",
    "model.u = pyo.Param(model.T, model.S, mutable=True, domain=pyo.Binary)          # The s-th EV is connected (binary)\n",
    "model.remaining_time = pyo.Param(model.T, model.S, mutable=True)                # Hours of connection remaining\n",
    "\n",
    "#def initialize_parameters(model):\n",
    "for s in model.S:\n",
    "    u = np.zeros(len(model.T))\n",
    "    remaining_time = np.zeros(len(model.T))\n",
    "    u[model.Ta[s]:model.Td[s]] = 1\n",
    "    tot = sum(u)\n",
    "    remaining_time[model.Ta[s]:model.Td[s]] = [-e + sum(u) for e in range(model.Td[s] - model.Ta[s])]\n",
    "    for t in model.T:\n",
    "        model.u[t,s] = u[t-1]\n",
    "        model.remaining_time[t,s] = remaining_time[t-1]\n"
   ]
  },
  {
   "cell_type": "markdown",
   "metadata": {},
   "source": [
    "NOTE: In the parameter U the simulation will happen. Meaning that when forecasting/random numbers and scheduling will be implemented, all the research will be given on these values. Sensitivity analysis will be also computed in model.u. When changing this matrix, the solutions will change as well."
   ]
  },
  {
   "cell_type": "code",
   "execution_count": 150,
   "metadata": {},
   "outputs": [],
   "source": [
    "\n",
    "# Define variables\n",
    "model.P = pyo.Var(model.T, model.S, domain=pyo.NonNegativeReals)     # Charging power\n",
    "\n",
    "\n",
    "\n",
    "\n",
    "\n",
    "# Optimization problem for each hour:\n",
    "\n",
    "def sub_opt(model, t):\n",
    "\n",
    "    #defining the objective function:\n",
    "    model.OF1 = pyo.Objective(rule=(sum(model.P[t,s]) for s in model.S), sense=pyo.minimize)\n",
    "\n",
    "\n",
    "\n",
    "\n",
    "\n",
    "# Defining objective functions:\n",
    "\n",
    "\n",
    "# Optimization model for each hour\n",
    "\n",
    "\n",
    "\n",
    "#for t in model.T:\n",
    "#    model.OF.add(expr=max(sum(model.P[t, s]) for s in model.S), sense=pyo.minimize)\n",
    "    #for s in model.S:\n",
    "    #    model.OF.add(expr=(model.P[t,s]*model.u[t,s]), sense=pyo.maximize)\n"
   ]
  }
 ],
 "metadata": {
  "kernelspec": {
   "display_name": "master_thesis2",
   "language": "python",
   "name": "python3"
  },
  "language_info": {
   "codemirror_mode": {
    "name": "ipython",
    "version": 3
   },
   "file_extension": ".py",
   "mimetype": "text/x-python",
   "name": "python",
   "nbconvert_exporter": "python",
   "pygments_lexer": "ipython3",
   "version": "3.11.5"
  }
 },
 "nbformat": 4,
 "nbformat_minor": 2
}
