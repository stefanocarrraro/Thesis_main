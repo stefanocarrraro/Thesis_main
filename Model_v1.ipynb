{
 "cells": [
  {
   "cell_type": "markdown",
   "metadata": {},
   "source": [
    "# *Cartesius* energy system model - version 1\n",
    "\n"
   ]
  },
  {
   "cell_type": "code",
   "execution_count": 1,
   "metadata": {},
   "outputs": [],
   "source": [
    "# Importing libraries: ------\n",
    "import pyomo.environ as pyo\n",
    "import numpy as np\n",
    "import pandas as pp\n",
    "\n",
    "# Import data from excel: ---\n",
    "def readInputFile(filename):\n",
    "    EV_data = pp.read_excel(filename, sheet_name= 'EV_data', index_col=0)\n",
    "    time = pp.read_excel(filename, sheet_name= 'EV_time', index_col=0)\n",
    "    EV_chargers = pp.read_excel(filename, sheet_name= 'EV_chargers', index_col=0)\n",
    "    grid_connection = pp.read_excel(filename, sheet_name= 'grid_connection', index_col=0)\n",
    "    transformers = pp.read_excel(filename, sheet_name= 'transformers', index_col=0)\n",
    "    HP = pp.read_excel(filename, sheet_name= 'HP', index_col=0)\n",
    "    load = pp.read_excel(filename, sheet_name= 'load', index_col=0)\n",
    "    BESS = pp.read_excel(filename, sheet_name= 'BESS', index_col=0)\n",
    "    return {'EV_data':EV_data, 'time':time, 'EV_chargers':EV_chargers, 'grid_connection':grid_connection, 'transformers':transformers, 'HP':HP, 'load':load, 'BESS':BESS}\n",
    "\n",
    "filename = 'Initialized_Data'\n",
    "data = readInputFile(filename)\n",
    "# ----------------------------\n",
    "EV_data = data['EV_data']\n",
    "time = data['time']\n",
    "EV_chargers = data['EV_chargers']\n",
    "grid_connection = data['grid_connection']\n",
    "transformers = data['transformers']\n",
    "HP = data['HP']\n",
    "load = data['load']\n",
    "BESS = data['BESS']\n",
    "# ----------------------------\n",
    "\n",
    "# Create a model: ------------\n",
    "model = pyo.ConcreteModel()\n",
    "\n",
    "\n",
    "# Sets: ----------------------\n",
    "model.T = pyo.Set(initialize=time.index, ordered=True)                   # Time [h1, ..., h24]\n",
    "model.S = pyo.Set(initialize=EV_data.index, ordered=True)                   # EVs [EV1, ..., EVs]\n",
    "model.CH = pyo.Set(initialize=EV_chargers.index, ordered=True)              # Chargers [CH1, ..., CHch]\n",
    "model.L = pyo.Set(initialize=load.index, ordered=True)                      # Load [L1, ..., Ll]\n",
    "model.B = pyo.Set(initialize=BESS.index, ordered=True)                      # BESS [B1, ..., Bb]\n",
    "model.H = pyo.Set(initialize=HP.index, ordered=True)                        # Heat Pumps [HP1, ..., HPh]\n",
    "model.G = pyo.Set(initialize=grid_connection.index, ordered=True)           # Grid Connection [POC1, ..., POCg]\n",
    "model.TF = pyo.Set(initialize=transformers.index, ordered=True)             # Transformers [TRAFO1, ..., TRAFOtf]\n",
    "\n",
    "\n",
    "# ----------------------------\n",
    "# Parameters:\n",
    "# ----------------------------\n",
    "\n",
    "# EVs:\n",
    "model.EV.P = pyo.Param(model.S, model.T)                                    # Max power the s-th EV can deliver at time t [kW]\n",
    "model.EV.E = pyo.Param(model.S)                                             # Energy capacity of the s-th EV [kWh]\n",
    "model.EV.Ta = pyo.Param(model.S)                                            # Arrival time of the s-th EV [h]*\n",
    "model.EV.Td = pyo.Param(model.S)                                            # Departure time of the s-th EV [h]*\n",
    "\n",
    "\n",
    "\n",
    "\n",
    "\n"
   ]
  }
 ],
 "metadata": {
  "kernelspec": {
   "display_name": "master_thesis2",
   "language": "python",
   "name": "python3"
  },
  "language_info": {
   "codemirror_mode": {
    "name": "ipython",
    "version": 3
   },
   "file_extension": ".py",
   "mimetype": "text/x-python",
   "name": "python",
   "nbconvert_exporter": "python",
   "pygments_lexer": "ipython3",
   "version": "3.11.5"
  }
 },
 "nbformat": 4,
 "nbformat_minor": 2
}
