{
 "cells": [
  {
   "cell_type": "markdown",
   "metadata": {},
   "source": [
    "# *Cartesius* energy system model - version 1\n",
    "\n"
   ]
  },
  {
   "cell_type": "code",
   "execution_count": 1,
   "metadata": {},
   "outputs": [],
   "source": [
    "# Importing libraries: ------\n",
    "import pyomo.environ as pyo\n",
    "import numpy as np\n",
    "import pandas as pp\n",
    "\n",
    "# Import data from excel: ---\n",
    "def readInputFile(filename):\n",
    "    EV_data = pp.read_excel(filename, sheet_name= 'EV_data', index_col=0)\n",
    "    EV_time = pp.read_excel(filename, sheet_name= 'EV_time', index_col=0)\n",
    "    EV_chargers = pp.read_excel(filename, sheet_name= 'EV_chargers', index_col=0)\n",
    "    grid_connection = pp.read_excel(filename, sheet_name= 'grid_connection', index_col=0)\n",
    "    transformers = pp.read_excel(filename, sheet_name= 'transformers', index_col=0)\n",
    "    HP = pp.read_excel(filename, sheet_name= 'HP', index_col=0)\n",
    "    load = pp.read_excel(filename, sheet_name= 'load', index_col=0)\n",
    "    BESS = pp.read_excel(filename, sheet_name= 'BESS', index_col=0)\n",
    "    return {'EV_data':EV_data, 'EV_time':EV_time, 'EV_chargers':EV_chargers, 'grid_connection':grid_connection, 'transformers':transformers, 'HP':HP, 'load':load, 'BESS':BESS}\n",
    "\n",
    "filename = 'Initialized_Data'\n",
    "data = readInputFile(filename)\n",
    "# ----------------------------\n",
    "EV_data = data['EV_data']\n",
    "EV_time = data['EV_time']\n",
    "EV_chargers = data['EV_chargers']\n",
    "grid_connection = data['grid_connection']\n",
    "transformers = data['transformers']\n",
    "HP = data['HP']\n",
    "load = data['load']\n",
    "BESS = data['BESS']\n",
    "# ----------------------------\n",
    "\n",
    "# Create a model: ------------\n",
    "model = pyo.ConcreteModel()\n",
    "\n",
    "\n",
    "# Sets: ----------------------\n",
    "model.T = pyo.Set(initialize=EV_time.index, ordered=True)                   # Time [h1, ..., h24]\n",
    "model.S = pyo.Set(initialize=EV_data.index, ordered=True)                   # EVs [EV1, ..., EVs]\n",
    "model.CH = pyo.Set(initialize=EV_chargers.index, ordered=True)              # Chargers [CH1, ..., CHch]\n",
    "model.L = pyo.Set(initialize=load.index, ordered=True)                      # Load [L1, ..., Ll]\n",
    "model.B = pyo.Set(initialize=BESS.index, ordered=True)                      # BESS [B1, ..., Bb]\n",
    "model.H = pyo.Set(initialize=HP.index, ordered=True)                        # Heat Pumps [HP1, ..., HPh]\n",
    "model.G = pyo.Set(initialize=grid_connection.index, ordered=True)           # Grid Connection [POC1, ..., POCg]\n",
    "model.TF = pyo.Set(initialize=transformers.index, ordered=True)             # Transformers [TRAFO1, ..., TRAFOtf]\n",
    "\n",
    "# Parameters: ----------------\n",
    "model.EV.P = pyo.Param(model.S, model.T)                                    # Max power the s-th EV can deliver at time t [kW]\n",
    "model.EV.E = pyo.Param(model.S)                                             # Energy capacity of the s-th EV [kWh]\n",
    "\n",
    "\n",
    "\n",
    "\n"
   ]
  },
  {
   "cell_type": "code",
   "execution_count": 2,
   "metadata": {},
   "outputs": [
    {
     "name": "stdout",
     "output_type": "stream",
     "text": [
      "ERROR: Initializer for Set T returned non-iterable object of type int.\n",
      "ERROR: Constructing component 'T' from data=None failed: TypeError: 'int'\n",
      "object is not iterable\n"
     ]
    },
    {
     "ename": "TypeError",
     "evalue": "'int' object is not iterable",
     "output_type": "error",
     "traceback": [
      "\u001b[1;31m---------------------------------------------------------------------------\u001b[0m",
      "\u001b[1;31mTypeError\u001b[0m                                 Traceback (most recent call last)",
      "Cell \u001b[1;32mIn[2], line 5\u001b[0m\n\u001b[0;32m      1\u001b[0m \u001b[38;5;66;03m# ---------------\u001b[39;00m\n\u001b[0;32m      2\u001b[0m \u001b[38;5;66;03m# Defining Sets:\u001b[39;00m\n\u001b[0;32m      3\u001b[0m \u001b[38;5;66;03m# ---------------\u001b[39;00m\n\u001b[1;32m----> 5\u001b[0m model\u001b[38;5;241m.\u001b[39mT \u001b[38;5;241m=\u001b[39m pyo\u001b[38;5;241m.\u001b[39mSet(ordered\u001b[38;5;241m=\u001b[39m\u001b[38;5;28;01mTrue\u001b[39;00m, initialize \u001b[38;5;241m=\u001b[39m \u001b[38;5;241m0\u001b[39m)\n",
      "File \u001b[1;32mc:\\Users\\stefa\\anaconda3\\envs\\master_thesis2\\Lib\\site-packages\\pyomo\\core\\base\\block.py:580\u001b[0m, in \u001b[0;36m_BlockData.__setattr__\u001b[1;34m(self, name, val)\u001b[0m\n\u001b[0;32m    575\u001b[0m \u001b[38;5;28;01mif\u001b[39;00m name \u001b[38;5;129;01mnot\u001b[39;00m \u001b[38;5;129;01min\u001b[39;00m \u001b[38;5;28mself\u001b[39m\u001b[38;5;241m.\u001b[39m\u001b[38;5;18m__dict__\u001b[39m:\n\u001b[0;32m    576\u001b[0m     \u001b[38;5;28;01mif\u001b[39;00m \u001b[38;5;28misinstance\u001b[39m(val, Component):\n\u001b[0;32m    577\u001b[0m         \u001b[38;5;66;03m#\u001b[39;00m\n\u001b[0;32m    578\u001b[0m         \u001b[38;5;66;03m# Pyomo components are added with the add_component method.\u001b[39;00m\n\u001b[0;32m    579\u001b[0m         \u001b[38;5;66;03m#\u001b[39;00m\n\u001b[1;32m--> 580\u001b[0m         \u001b[38;5;28mself\u001b[39m\u001b[38;5;241m.\u001b[39madd_component(name, val)\n\u001b[0;32m    581\u001b[0m     \u001b[38;5;28;01melse\u001b[39;00m:\n\u001b[0;32m    582\u001b[0m         \u001b[38;5;66;03m#\u001b[39;00m\n\u001b[0;32m    583\u001b[0m         \u001b[38;5;66;03m# Other Python objects are added with the standard __setattr__\u001b[39;00m\n\u001b[0;32m    584\u001b[0m         \u001b[38;5;66;03m# method.\u001b[39;00m\n\u001b[0;32m    585\u001b[0m         \u001b[38;5;66;03m#\u001b[39;00m\n\u001b[0;32m    586\u001b[0m         \u001b[38;5;28msuper\u001b[39m(_BlockData, \u001b[38;5;28mself\u001b[39m)\u001b[38;5;241m.\u001b[39m\u001b[38;5;21m__setattr__\u001b[39m(name, val)\n",
      "File \u001b[1;32mc:\\Users\\stefa\\anaconda3\\envs\\master_thesis2\\Lib\\site-packages\\pyomo\\core\\base\\block.py:1185\u001b[0m, in \u001b[0;36m_BlockData.add_component\u001b[1;34m(self, name, val)\u001b[0m\n\u001b[0;32m   1177\u001b[0m     logger\u001b[38;5;241m.\u001b[39mdebug(\n\u001b[0;32m   1178\u001b[0m         \u001b[38;5;124m\"\u001b[39m\u001b[38;5;124mConstructing \u001b[39m\u001b[38;5;132;01m%s\u001b[39;00m\u001b[38;5;124m \u001b[39m\u001b[38;5;124m'\u001b[39m\u001b[38;5;132;01m%s\u001b[39;00m\u001b[38;5;124m'\u001b[39m\u001b[38;5;124m on \u001b[39m\u001b[38;5;132;01m%s\u001b[39;00m\u001b[38;5;124m from data=\u001b[39m\u001b[38;5;132;01m%s\u001b[39;00m\u001b[38;5;124m\"\u001b[39m,\n\u001b[0;32m   1179\u001b[0m         val\u001b[38;5;241m.\u001b[39m\u001b[38;5;18m__class__\u001b[39m\u001b[38;5;241m.\u001b[39m\u001b[38;5;18m__name__\u001b[39m,\n\u001b[1;32m   (...)\u001b[0m\n\u001b[0;32m   1182\u001b[0m         \u001b[38;5;28mstr\u001b[39m(data),\n\u001b[0;32m   1183\u001b[0m     )\n\u001b[0;32m   1184\u001b[0m \u001b[38;5;28;01mtry\u001b[39;00m:\n\u001b[1;32m-> 1185\u001b[0m     val\u001b[38;5;241m.\u001b[39mconstruct(data)\n\u001b[0;32m   1186\u001b[0m \u001b[38;5;28;01mexcept\u001b[39;00m:\n\u001b[0;32m   1187\u001b[0m     err \u001b[38;5;241m=\u001b[39m sys\u001b[38;5;241m.\u001b[39mexc_info()[\u001b[38;5;241m1\u001b[39m]\n",
      "File \u001b[1;32mc:\\Users\\stefa\\anaconda3\\envs\\master_thesis2\\Lib\\site-packages\\pyomo\\core\\base\\disable_methods.py:124\u001b[0m, in \u001b[0;36mdisable_methods.<locals>.class_decorator.<locals>.construct\u001b[1;34m(self, data)\u001b[0m\n\u001b[0;32m    122\u001b[0m     \u001b[38;5;28mself\u001b[39m\u001b[38;5;241m.\u001b[39m_name \u001b[38;5;241m=\u001b[39m base\u001b[38;5;241m.\u001b[39m\u001b[38;5;18m__name__\u001b[39m\n\u001b[0;32m    123\u001b[0m \u001b[38;5;28mself\u001b[39m\u001b[38;5;241m.\u001b[39m\u001b[38;5;18m__class__\u001b[39m \u001b[38;5;241m=\u001b[39m base\n\u001b[1;32m--> 124\u001b[0m \u001b[38;5;28;01mreturn\u001b[39;00m base\u001b[38;5;241m.\u001b[39mconstruct(\u001b[38;5;28mself\u001b[39m, data)\n",
      "File \u001b[1;32mc:\\Users\\stefa\\anaconda3\\envs\\master_thesis2\\Lib\\site-packages\\pyomo\\core\\base\\set.py:2134\u001b[0m, in \u001b[0;36mSet.construct\u001b[1;34m(self, data)\u001b[0m\n\u001b[0;32m   2131\u001b[0m     \u001b[38;5;28;01melse\u001b[39;00m:\n\u001b[0;32m   2132\u001b[0m         \u001b[38;5;66;03m# Bypass the index validation and create the member directly\u001b[39;00m\n\u001b[0;32m   2133\u001b[0m         \u001b[38;5;28;01mfor\u001b[39;00m index \u001b[38;5;129;01min\u001b[39;00m \u001b[38;5;28mself\u001b[39m\u001b[38;5;241m.\u001b[39mindex_set():\n\u001b[1;32m-> 2134\u001b[0m             \u001b[38;5;28mself\u001b[39m\u001b[38;5;241m.\u001b[39m_getitem_when_not_present(index)\n\u001b[0;32m   2135\u001b[0m \u001b[38;5;28;01mfinally\u001b[39;00m:\n\u001b[0;32m   2136\u001b[0m     \u001b[38;5;66;03m# Restore the original initializer (if overridden by data argument)\u001b[39;00m\n\u001b[0;32m   2137\u001b[0m     \u001b[38;5;28;01mif\u001b[39;00m data \u001b[38;5;129;01mis\u001b[39;00m \u001b[38;5;129;01mnot\u001b[39;00m \u001b[38;5;28;01mNone\u001b[39;00m:\n",
      "File \u001b[1;32mc:\\Users\\stefa\\anaconda3\\envs\\master_thesis2\\Lib\\site-packages\\pyomo\\core\\base\\set.py:2235\u001b[0m, in \u001b[0;36mSet._getitem_when_not_present\u001b[1;34m(self, index)\u001b[0m\n\u001b[0;32m   2233\u001b[0m     _values\u001b[38;5;241m.\u001b[39mconstruct()\n\u001b[0;32m   2234\u001b[0m \u001b[38;5;28;01mtry\u001b[39;00m:\n\u001b[1;32m-> 2235\u001b[0m     val_iter \u001b[38;5;241m=\u001b[39m \u001b[38;5;28miter\u001b[39m(_values)\n\u001b[0;32m   2236\u001b[0m \u001b[38;5;28;01mexcept\u001b[39;00m \u001b[38;5;167;01mTypeError\u001b[39;00m:\n\u001b[0;32m   2237\u001b[0m     logger\u001b[38;5;241m.\u001b[39merror(\n\u001b[0;32m   2238\u001b[0m         \u001b[38;5;124m\"\u001b[39m\u001b[38;5;124mInitializer for Set \u001b[39m\u001b[38;5;132;01m%s\u001b[39;00m\u001b[38;5;132;01m%s\u001b[39;00m\u001b[38;5;124m returned non-iterable object \u001b[39m\u001b[38;5;124m\"\u001b[39m\n\u001b[0;32m   2239\u001b[0m         \u001b[38;5;124m\"\u001b[39m\u001b[38;5;124mof type \u001b[39m\u001b[38;5;132;01m%s\u001b[39;00m\u001b[38;5;124m.\u001b[39m\u001b[38;5;124m\"\u001b[39m\n\u001b[1;32m   (...)\u001b[0m\n\u001b[0;32m   2246\u001b[0m         )\n\u001b[0;32m   2247\u001b[0m     )\n",
      "\u001b[1;31mTypeError\u001b[0m: 'int' object is not iterable"
     ]
    }
   ],
   "source": [
    "# ---------------\n",
    "# Defining Sets:\n",
    "# ---------------\n",
    "\n",
    "model.T = pyo.Set(ordered=True, initialize = )\n"
   ]
  }
 ],
 "metadata": {
  "kernelspec": {
   "display_name": "master_thesis2",
   "language": "python",
   "name": "python3"
  },
  "language_info": {
   "codemirror_mode": {
    "name": "ipython",
    "version": 3
   },
   "file_extension": ".py",
   "mimetype": "text/x-python",
   "name": "python",
   "nbconvert_exporter": "python",
   "pygments_lexer": "ipython3",
   "version": "3.11.5"
  }
 },
 "nbformat": 4,
 "nbformat_minor": 2
}
