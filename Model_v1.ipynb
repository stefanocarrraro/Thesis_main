{
 "cells": [
  {
   "cell_type": "markdown",
   "metadata": {},
   "source": [
    "# *Cartesius* energy system model - version 1\n",
    "\n"
   ]
  },
  {
   "cell_type": "code",
   "execution_count": 414,
   "metadata": {},
   "outputs": [
    {
     "name": "stdout",
     "output_type": "stream",
     "text": [
      "info : General info\n",
      "    Size=1, Index=None, Ordered=Insertion\n",
      "    Key  : Dimen : Domain : Size : Members\n",
      "    None :     1 :    Any :    1 : {'info',}\n"
     ]
    }
   ],
   "source": [
    "# Importing libraries: ------\n",
    "import pyomo.environ as pyo\n",
    "import numpy as np\n",
    "import pandas as pp\n",
    "\n",
    "# Import data from excel: ---\n",
    "def readInputFile(filename):\n",
    "    general = pp.read_excel(filename, sheet_name='general', index_col=0)\n",
    "    EV_data = pp.read_excel(filename, sheet_name= 'EV_data', index_col=0)\n",
    "    demand = pp.read_excel(filename, sheet_name= 'demand', index_col=0)\n",
    "    #EV_chargers = pp.read_excel(filename, sheet_name= 'EV_chargers', index_col=0)\n",
    "    grid_connection = pp.read_excel(filename, sheet_name= 'grid_connection', index_col=0)\n",
    "    transformers = pp.read_excel(filename, sheet_name= 'transformers', index_col=0)\n",
    "    HP = pp.read_excel(filename, sheet_name= 'HP', index_col=0)\n",
    "    load = pp.read_excel(filename, sheet_name= 'load', index_col=0)\n",
    "    BESS = pp.read_excel(filename, sheet_name= 'BESS', index_col=0)\n",
    "    return {'general': general, 'EV_data':EV_data, 'demand':demand, 'grid_connection':grid_connection, 'transformers':transformers, 'HP':HP, 'load':load, 'BESS':BESS}\n",
    "    # , 'EV_chargers':EV_chargers\n",
    "\n",
    "filename = 'Initialized_Data.xlsx'\n",
    "data = readInputFile(filename)\n",
    "# ----------------------------\n",
    "general = data['general']\n",
    "EV_data = data['EV_data']\n",
    "demand = data['demand']\n",
    "#EV_chargers = data['EV_chargers']\n",
    "grid_connection = data['grid_connection']\n",
    "transformers = data['transformers']\n",
    "HP = data['HP']\n",
    "load = data['load']\n",
    "BESS = data['BESS']\n",
    "# ----------------------------\n",
    "\n",
    "# Create a model: ------------\n",
    "model = pyo.ConcreteModel()\n",
    "\n",
    "\n",
    "# Sets: ----------------------\n",
    "model.T = pyo.Set(initialize=demand.index, ordered=True, doc='Time')                        # Time [h1, ..., h24]\n",
    "model.S = pyo.Set(initialize=EV_data.index, ordered=True, doc='Electric vehicles')          # EVs [EV1, ..., EVs]\n",
    "#model.CH = pyo.Set(initialize=EV_chargers.index, ordered=True, doc='Chargers')              # Chargers [CH1, ..., CHch]\n",
    "model.L = pyo.Set(initialize=load.index, ordered=True, doc='Loads')                         # Load [L1, ..., Ll]\n",
    "model.B = pyo.Set(initialize=BESS.index, ordered=True, doc='BESS')                          # BESS [B1, ..., Bb]\n",
    "model.H = pyo.Set(initialize=HP.index, ordered=True, doc='Heat pumps')                      # Heat Pumps [HP1, ..., HPh]\n",
    "model.G = pyo.Set(initialize=grid_connection.index, ordered=True, doc= 'Grid connections')  # Grid Connection [POC1, ..., POCg]\n",
    "model.TF = pyo.Set(initialize=transformers.index, ordered=True, doc='Transformers')         # Transformers [TRAFO1, ..., TRAFOtf]\n",
    "model.info = pyo.Set(initialize=general.index, doc='General info')\n",
    "model.info.pprint()"
   ]
  },
  {
   "cell_type": "markdown",
   "metadata": {},
   "source": [
    "# Electric vehicles:\n",
    "\n",
    "For the EVs section, the following important assoumptions are taken into account:\n",
    "- EVs are in a shared manner to increase flexibility: Users will not take a specific vehicle but the one with the highest charge. Thus, there is generally more time to charge vehicles and times can be better estimated (i.e. after a few months it's understood that 30 EVs are always used weekdays mornings ...).\n",
    "\n",
    "- Time of connection of each EV is known (or mdre likely predicted).\n",
    "\n",
    "Important parameters of the EVs are:\n",
    "- Maximum charging power $P_{max}$ [kW]\n",
    "- Maximum energy capacity $E_{max}$ [kWh]\n",
    "- Arrival and departure time, $T_a$ and $T_d$ respectively\n",
    "- Initial and final State of Charge (SOC) [%]\n",
    "\n",
    "Subjected to the following constraints:\n",
    "- $ 0 \\leq P^{EV}_{s, t} \\leq \\overline{P^{EV}_{s}} \\quad \\forall t \\; \\forall s$"
   ]
  },
  {
   "cell_type": "code",
   "execution_count": 415,
   "metadata": {},
   "outputs": [
    {
     "data": {
      "text/plain": [
       "[8]"
      ]
     },
     "metadata": {},
     "output_type": "display_data"
    }
   ],
   "source": [
    "# ----------------------------\n",
    "# EVs\n",
    "# ----------------------------\n",
    "\n",
    "# Parameters:\n",
    "model.EV_Pmax = pyo.Param(model.S, initialize=EV_data['Max charging power [kW]'].to_dict(), mutable=True)       # Max power the s-th EV can be charged[kW]\n",
    "model.EV_E = pyo.Param(model.S, initialize=EV_data['Energy capacity [kWh]'].to_dict(), mutable=True)            # Energy capacity of the s-th EV [kWh]\n",
    "model.EV_Ta = pyo.Param(model.S, initialize=EV_data['Tarrival [h]'].to_dict(), mutable=True)                    # Arrival time of the s-th EV [h]*\n",
    "model.EV_Td = pyo.Param(model.S, initialize=EV_data['Tdeparture [h]'].to_dict(), mutable=True)                  # Departure time of the s-th EV [h]*\n",
    "model.EV_SOCa = pyo.Param(model.S, initialize=EV_data['Arrival SOC [%]'].to_dict(), mutable=True)               # s-th EV SOC at Ta [%]\n",
    "model.EV_SOCd = pyo.Param(model.S, initialize=EV_data['Departure SOC [%]'].to_dict(), mutable=True)             # s-th EC SOC at Td [%]\n",
    "model.EV_SOEa = pyo.Param(model.S, mutable=True)                                                                # s-th EV SOE at Ta [kWh]\n",
    "model.EV_SOEd = pyo.Param(model.S, mutable=True)                                                                # s-th EC SOE at Td [kWh]\n",
    "EVsys_P = int(general.at['info', 'EV power rated [kW]'])                                                        # Max power allowed by the physical system to the EVs\n",
    "\n",
    "for s in model.S:\n",
    "    model.EV_SOEa[s] = model.EV_E[s]*model.EV_SOCa[s]/100\n",
    "    model.EV_SOEd[s] = model.EV_E[s]*model.EV_SOCd[s]/100\n",
    "\n",
    "\n",
    "# Variables:\n",
    "model.P_EV = pyo.Var(model.T, model.S, domain=pyo.NonNegativeReals)         # Power delivered to EV s-th at time t [kW]\n",
    "#model.u_EV = pyo.Var(model.T, model.S, domain=pyo.Binary)                   # Binary variable of charging on/off of the s-th EV at time t\n",
    "\n",
    "\n",
    "# Constraints:\n",
    "model.EV_constraints = pyo.ConstraintList()\n",
    "\n",
    "for s in model.S:\n",
    "    for t in model.T:\n",
    "        model.EV_constraints.add(expr=(model.P_EV[t,s] <= model.EV_Pmax[s]))                            # Constraints (...)\n",
    "        #model.EV_constraints.add(expr=(model.P_EV[t,s] <= model.EV_Pmax[s] * model.u_EV[t,s]))          # Considering binary variables\n",
    "\n",
    "\n",
    "\n",
    "\n",
    "\n",
    "\n",
    "# ALGORITHM OF CHARGE FOR EVS\n",
    "\n",
    "# Creating the rank of EV to be charged every hour\n",
    "def SortEVs(model, time):\n",
    "    sorted_vector = sorted(model.S, key=lambda s: pyo.value(model.EV_Td[s])) \n",
    "    excluding = ((time*np.ones(len(model.S)) >= [pyo.value(model.EV_Ta[s]) for s in sorted_vector]) & (time*np.ones(len(model.S)) <= [pyo.value(model.EV_Td[s]) for s in sorted_vector]))\n",
    "    return [value for value, include in zip(sorted_vector, excluding) if include]\n",
    "ranking = []\n",
    "for t in range(len(model.T)):\n",
    "    ranking.append(SortEVs(model, t))           # for every time t [h], it shows which EV needs to be charged\n",
    "\n",
    "\n",
    "# Calculating the remaining power:\n",
    "# def RemainingPower(model, ranking):\n",
    "#     return [EVsys_P - sum(pyo.value(model.EV_Pmax[s]) for s in ranking)]\n",
    "\n",
    "\n",
    "# result = [[] for _ in range(len(model.T))]\n",
    "# for t in range(len(model.T)):\n",
    "#     for i in range(len(ranking[t][:])):\n",
    "#         result[t].append(RemainingPower(model, ranking[t][:i+1]))\n",
    "\n",
    "# Calculating the remaining power:\n",
    "def RemainingPower(model, ranking, t):\n",
    "    result = []\n",
    "    for i in range(len(ranking[t][:])):\n",
    "        result.append([EVsys_P - sum(pyo.value(model.EV_Pmax[s]) for s in ranking[t][:i+1])])\n",
    "    return result\n",
    "P_star = []\n",
    "for t in range(len(model.T)):\n",
    "    P_star.append(RemainingPower(model, ranking, t))\n"
   ]
  },
  {
   "cell_type": "markdown",
   "metadata": {},
   "source": [
    "# Heating system:\n",
    "\n",
    "This section is for the electrical part of the heating system\n",
    "\n",
    "Constraints:\n",
    "- $ 0 \\leq P^{HP}_{t, h} \\leq \\overline{P^{HP}_h} \\quad \\forall t \\; \\forall h $\n",
    "\n",
    "- $ \\sum_{h} P^{HP}_{t,h} \\, = \\, {PD}^{heating}_t \\quad \\forall t $"
   ]
  },
  {
   "cell_type": "code",
   "execution_count": 416,
   "metadata": {},
   "outputs": [],
   "source": [
    "# ----------------------------\n",
    "# HPs \n",
    "# ----------------------------\n",
    "\n",
    "\n",
    "# Parameters:\n",
    "model.HP_Prated = pyo.Param(model.H, initialize=HP['Power rated [kW]'].to_dict(), mutable=True)           # rated power of the h-th heat pump [kW]\n",
    "model.HP_PD = pyo.Param(model.T, initialize=demand['Heating power demand [kW]'].to_dict(), mutable=True)  # Heating power demand at time t [kW]\n",
    "\n",
    "\n",
    "# Variables:\n",
    "model.P_HP = pyo.Var(model.T, model.H, domain=pyo.NonNegativeReals)                 # Power delivered to HP h at time t [kW]\n",
    "\n",
    "\n",
    "# Constraints:\n",
    "model.HP_constraints = pyo.ConstraintList()\n",
    "\n",
    "for t in model.T:\n",
    "    #model.HP_constraints.add(expr=(sum(model.P_HP[t,h] for h in model.H) == model.HP_PD))\n",
    "    for h in model.H:\n",
    "        model.HP_constraints.add(expr=(model.P_HP[t,h] <= model.HP_Prated[h]))\n"
   ]
  },
  {
   "cell_type": "markdown",
   "metadata": {},
   "source": [
    "# Grid connection:\n",
    "\n",
    "Constraints:\n",
    "- $ \\quad 0 \\leq P^{grid}_{t,g} \\leq \\overline{P^{grid}_{g}} \\quad \\forall t \\forall g $\n",
    "\n",
    "- Power balance: $ \\quad \\sum_{s} P^{EV}_{t,s} + \\sum_{h} P^{HP}_{t,h} + \\sum_{l} P^{load}_{t,l} + \\sum_{g} P^{grid}_{t,g} = 0 \\quad \\forall t $"
   ]
  },
  {
   "cell_type": "code",
   "execution_count": 417,
   "metadata": {},
   "outputs": [],
   "source": [
    "# Parameters: \n",
    "model.GC_Pmax = pyo.Param(model.G, initialize=grid_connection['Max power [kW]'], mutable=True)\n",
    "\n",
    "# Variables:\n",
    "model.P_grid = pyo.Var(model.T, model.G)                   # Power fed(+) or withdrewd(-) from the grid connection g at time t [kW]\n",
    "\n",
    "# Constraints:\n",
    "\n",
    "model.power_balance = pyo.ConstraintList()\n",
    "model.GC_constraints = pyo.ConstraintList()\n",
    "for t in model.T:\n",
    "    model.power_balance.add(expr=(sum(model.P_EV[t,s] for s in model.S) + sum(model.P_HP[t,h] for h in model.H) + sum(model.P_grid[t,g] for g in model.G) == 0))\n",
    "    for g in model.G:\n",
    "        model.GC_constraints.add(expr=(model.P_grid[t,g] <= model.GC_Pmax[g]))\n"
   ]
  },
  {
   "cell_type": "markdown",
   "metadata": {},
   "source": [
    "# Defining the objective function:\n",
    "\n",
    "Two ideas of objective function:\n",
    "\n",
    "1. Minimize the power withdrawl from the grid:\n",
    "\n",
    "OF: $ \\quad \\underset{t}{min} \\quad \\sum_{g} P^{grid}_{t,g} \\quad \\forall t$\n",
    "\n",
    "2. Make the grid power withdrawl as constant as possible:\n",
    "\n",
    "OF: $ \\quad \\underset{t}{min} \\; J \\quad $ with $ \\quad J = \\sqrt{ \\frac{1}{T} \\, \\sum_{t} ( P_t - \\overline{P})^2 } $\n",
    "\n",
    "To make it linear the variable $ d_t $ is introduced:\n",
    "\n",
    "$ => $ $ OF_{lin} $: $ \\quad \\underset{t}{min} \\; J \\quad $ with $ \\quad J =  \\frac{1}{T} \\, \\sum_{t} d_t $\n",
    "\n",
    "s.t. \n",
    "\n",
    "$ \\; P_t - \\overline{P} \\leq d_t \\quad \\forall t $\n",
    "\n",
    "$ \\; \\overline{P} - P_t \\leq d_t \\quad \\forall t $\n",
    "\n",
    "$ \\; d_t \\geq 0 \\quad \\forall t $"
   ]
  },
  {
   "cell_type": "code",
   "execution_count": 418,
   "metadata": {},
   "outputs": [],
   "source": [
    "# Defining the objective function:\n",
    "\n",
    "def ObjectiveFunction(model):\n",
    "    return (sum(model.P_grid[t,s]))\n",
    "\n",
    "model.ObjectiveFunction = pyo.ObjectiveList()\n",
    "for t in model.T:\n",
    "    model.ObjectiveFunction.add(expr=(sum(model.P_grid[t,g] for g in model.G)))"
   ]
  }
 ],
 "metadata": {
  "kernelspec": {
   "display_name": "master_thesis2",
   "language": "python",
   "name": "python3"
  },
  "language_info": {
   "codemirror_mode": {
    "name": "ipython",
    "version": 3
   },
   "file_extension": ".py",
   "mimetype": "text/x-python",
   "name": "python",
   "nbconvert_exporter": "python",
   "pygments_lexer": "ipython3",
   "version": "3.11.5"
  }
 },
 "nbformat": 4,
 "nbformat_minor": 2
}
