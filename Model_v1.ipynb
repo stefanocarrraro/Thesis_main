{
 "cells": [
  {
   "cell_type": "markdown",
   "metadata": {},
   "source": [
    "# *Cartesius* energy system model - version 1\n",
    "\n"
   ]
  },
  {
   "cell_type": "code",
   "execution_count": 43,
   "metadata": {},
   "outputs": [],
   "source": [
    "# Importing libraries: ------\n",
    "import pyomo.environ as pyo\n",
    "import numpy as np\n",
    "import pandas as pp\n",
    "\n",
    "# Import data from excel: ---\n",
    "def readInputFile(filename):\n",
    "    EV_data = pp.read_excel(filename, sheet_name= 'EV_data', index_col=0)\n",
    "    time = pp.read_excel(filename, sheet_name= 'time', index_col=0)\n",
    "    #EV_chargers = pp.read_excel(filename, sheet_name= 'EV_chargers', index_col=0)\n",
    "    grid_connection = pp.read_excel(filename, sheet_name= 'grid_connection', index_col=0)\n",
    "    transformers = pp.read_excel(filename, sheet_name= 'transformers', index_col=0)\n",
    "    HP = pp.read_excel(filename, sheet_name= 'HP', index_col=0)\n",
    "    load = pp.read_excel(filename, sheet_name= 'load', index_col=0)\n",
    "    BESS = pp.read_excel(filename, sheet_name= 'BESS', index_col=0)\n",
    "    return {'EV_data':EV_data, 'time':time, 'grid_connection':grid_connection, 'transformers':transformers, 'HP':HP, 'load':load, 'BESS':BESS}\n",
    "    # , 'EV_chargers':EV_chargers\n",
    "\n",
    "filename = 'Initialized_Data.xlsx'\n",
    "data = readInputFile(filename)\n",
    "# ----------------------------\n",
    "EV_data = data['EV_data']\n",
    "time = data['time']\n",
    "#EV_chargers = data['EV_chargers']\n",
    "grid_connection = data['grid_connection']\n",
    "transformers = data['transformers']\n",
    "HP = data['HP']\n",
    "load = data['load']\n",
    "BESS = data['BESS']\n",
    "# ----------------------------\n",
    "\n",
    "# Create a model: ------------\n",
    "model = pyo.ConcreteModel()\n",
    "\n",
    "\n",
    "# Sets: ----------------------\n",
    "model.T = pyo.Set(initialize=time.index, ordered=True, doc='Time')                          # Time [h1, ..., h24]\n",
    "model.S = pyo.Set(initialize=EV_data.index, ordered=True, doc='Electric vehicles')          # EVs [EV1, ..., EVs]\n",
    "#model.CH = pyo.Set(initialize=EV_chargers.index, ordered=True, doc='Chargers')              # Chargers [CH1, ..., CHch]\n",
    "model.L = pyo.Set(initialize=load.index, ordered=True, doc='Loads')                         # Load [L1, ..., Ll]\n",
    "model.B = pyo.Set(initialize=BESS.index, ordered=True, doc='BESS')                          # BESS [B1, ..., Bb]\n",
    "model.H = pyo.Set(initialize=HP.index, ordered=True, doc='Heat pumps')                      # Heat Pumps [HP1, ..., HPh]\n",
    "model.G = pyo.Set(initialize=grid_connection.index, ordered=True, doc= 'Grid connections')  # Grid Connection [POC1, ..., POCg]\n",
    "model.TF = pyo.Set(initialize=transformers.index, ordered=True, doc='Transformers')         # Transformers [TRAFO1, ..., TRAFOtf]\n"
   ]
  },
  {
   "cell_type": "markdown",
   "metadata": {},
   "source": [
    "# Electric vehicles:\n",
    "\n",
    "Important parameters of the EVs are:\n",
    "- Maximum charging power $P_{max}$ [kW]\n",
    "- Maximum energy capacity $E_{max}$ [kWh]\n",
    "- Arrival and departure time, $T_a$ and $T_d$ respectively\n",
    "- Initial and final State of Charge (SOC) [%]\n",
    "\n",
    "Subjected to the following constraints:\n",
    "- $ 0 \\leq P^{EV}_{s, t} \\leq \\overline{P^{EV}_{s}} \\quad \\forall t \\; \\forall s$"
   ]
  },
  {
   "cell_type": "code",
   "execution_count": 44,
   "metadata": {},
   "outputs": [],
   "source": [
    "# ----------------------------\n",
    "# EVs\n",
    "# ----------------------------\n",
    "\n",
    "# Parameters:\n",
    "model.EV_Pmax = pyo.Param(model.S, initialize=EV_data['Max charging power [kW]'].to_dict(), mutable=True)       # Max power the s-th EV can be charged[kW]\n",
    "model.EV_E = pyo.Param(model.S, initialize=EV_data['Energy capacity [kWh]'].to_dict(), mutable=True)            # Energy capacity of the s-th EV [kWh]\n",
    "model.EV_Ta = pyo.Param(model.S, initialize=EV_data['Tarrival [h]'].to_dict(), mutable=True)                    # Arrival time of the s-th EV [h]*\n",
    "model.EV_Td = pyo.Param(model.S, initialize=EV_data['Tdeparture [h]'].to_dict(), mutable=True)                  # Departure time of the s-th EV [h]*\n",
    "model.EV_SOCa = pyo.Param(model.S, initialize=EV_data['Arrival SOC [%]'].to_dict(), mutable=True)               # s-th EV SOC at Ta [%]\n",
    "model.EV_SOCd = pyo.Param(model.S, initialize=EV_data['Departure SOC [%]'].to_dict(), mutable=True)             # s-th EC SOC at Td [%]\n",
    "model.EV_SOEa = pyo.Param(model.S, mutable=True)                                                                # s-th EV SOE at Ta [kWh]\n",
    "model.EV_SOEd = pyo.Param(model.S, mutable=True)                                                                # s-th EC SOE at Td [kWh]\n",
    "\n",
    "for s in model.S:\n",
    "    model.EV_SOEa[s] = model.EV_E[s]*model.EV_SOCa[s]/100\n",
    "    model.EV_SOEd[s] = model.EV_E[s]*model.EV_SOCd[s]/100\n",
    "\n",
    "\n",
    "# Variables:\n",
    "model.P_EV = pyo.Var(model.T, model.S, domain=pyo.NonNegativeReals)         # Power delivered to EV s-th at time t [kW]\n",
    "#model.u_EV = pyo.Var(model.T, model.S, domain=pyo.Binary)                   # Binary variable of charging on/off of the s-th EV at time t\n",
    "\n",
    "\n",
    "# Constraints:\n",
    "model.EV_constraints = pyo.ConstraintList()\n",
    "\n",
    "for s in model.S:\n",
    "    for t in model.T:\n",
    "        model.EV_constraints.add(expr=(model.P_EV[t,s] <= model.EV_Pmax[s]))                            # Constraints (...)\n",
    "        #model.EV_constraints.add(expr=(model.P_EV[t,s] <= model.EV_Pmax[s] * model.u_EV[t,s]))          # Considering binary variables\n",
    "\n"
   ]
  },
  {
   "cell_type": "markdown",
   "metadata": {},
   "source": [
    "# Heating system:\n",
    "\n",
    "This section is for the electrical part of the heating system\n",
    "\n",
    "Constraints:\n",
    "- $ 0 \\leq P^{HP}_{t, h} \\leq \\overline{P^{HP}_h} \\quad \\forall t \\; \\forall h $"
   ]
  },
  {
   "cell_type": "code",
   "execution_count": 45,
   "metadata": {},
   "outputs": [],
   "source": [
    "# ----------------------------\n",
    "# HPs \n",
    "# ----------------------------\n",
    "\n",
    "\n",
    "# Parameters:\n",
    "model.HP_Prated = pyo.Param(model.H, initialize=HP['Power rated [kW]'], mutable=True)       # rated power of the h-th heat pump [kW]\n",
    "\n",
    "\n",
    "# Variables:\n",
    "model.P_HP = pyo.Var(model.T, model.H, domain=pyo.NonNegativeReals)                 # Power delivered to HP h at time t [kW]\n",
    "\n",
    "\n",
    "# Constraints:\n",
    "model.HP_constraints = pyo.ConstraintList()\n",
    "\n",
    "for h in model.H:\n",
    "    for t in model.T:\n",
    "        model.HP_constraints.add(expr=(model.P_HP[t,h] <= model.HP_Prated[h]))\n",
    "\n",
    "\n"
   ]
  },
  {
   "cell_type": "markdown",
   "metadata": {},
   "source": [
    "# Grid connection:\n",
    "\n",
    "Constraints:\n",
    "- Power balance: $ \\quad \\sum_{s} P^{EV}_{t,s} + \\sum_{h} P^{HP}_{t,h} + \\sum_{g} P^{grid}_{t,g} = 0 \\quad \\forall t $"
   ]
  },
  {
   "cell_type": "code",
   "execution_count": 46,
   "metadata": {},
   "outputs": [],
   "source": [
    "# Parameters: \n",
    "model.GC_Pmax = pyo.Param(model.G, initialize=grid_connection['Max power [kW]'], mutable=True)\n",
    "\n",
    "# Variables:\n",
    "model.P_grid = pyo.Var(model.T, model.G)                   # Power fed(+) or withdrewd(-) from the grid connection g at time t [kW]\n",
    "\n",
    "# Constraints:\n",
    "\n",
    "model.power_balance = pyo.ConstraintList()\n",
    "model.GC_constraints = pyo.ConstraintList()\n",
    "for t in model.T:\n",
    "    model.power_balance.add(expr=(sum(model.P_EV[t,s] for s in model.S) + sum(model.P_HP[t,h] for h in model.H) + sum(model.P_grid[t,g] for g in model.G) == 0))\n",
    "    for g in model.G:\n",
    "        model.GC_constraints.add(expr=(model.P_grid[t,g] <= model.GC_Pmax[g]))\n"
   ]
  }
 ],
 "metadata": {
  "kernelspec": {
   "display_name": "master_thesis2",
   "language": "python",
   "name": "python3"
  },
  "language_info": {
   "codemirror_mode": {
    "name": "ipython",
    "version": 3
   },
   "file_extension": ".py",
   "mimetype": "text/x-python",
   "name": "python",
   "nbconvert_exporter": "python",
   "pygments_lexer": "ipython3",
   "version": "3.11.5"
  }
 },
 "nbformat": 4,
 "nbformat_minor": 2
}
